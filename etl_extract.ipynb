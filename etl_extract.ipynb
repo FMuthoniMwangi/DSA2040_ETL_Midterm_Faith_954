{
 "cells": [
  {
   "cell_type": "markdown",
   "id": "408f1e87",
   "metadata": {},
   "source": [
    "Extract Phase\n",
    "\n",
    "Load and Preview Data"
   ]
  },
  {
   "cell_type": "code",
   "execution_count": 11,
   "id": "2b9a49fd",
   "metadata": {},
   "outputs": [],
   "source": [
    "import pandas as pd\n",
    "# Load raw and incremental data\n",
    "raw_df = pd.read_csv('data/raw_data.csv')\n",
    "inc_df = pd.read_csv('data/incremental_data.csv')"
   ]
  },
  {
   "cell_type": "code",
   "execution_count": null,
   "id": "37630cd4",
   "metadata": {},
   "outputs": [],
   "source": [
    "# Preview the data\n",
    "display(raw_df.head())\n",
    "display(inc_df.head())"
   ]
  },
  {
   "cell_type": "code",
   "execution_count": null,
   "id": "f0f5278a",
   "metadata": {},
   "outputs": [],
   "source": [
    "# Data info\n",
    "raw_df.info()\n",
    "inc_df.info()"
   ]
  },
  {
   "cell_type": "code",
   "execution_count": 12,
   "id": "9e5d7ed4",
   "metadata": {},
   "outputs": [
    {
     "name": "stdout",
     "output_type": "stream",
     "text": [
      "\n",
      "Raw Data Duplicate Rows: 1\n",
      "Incremental Data Duplicate Rows: 0\n"
     ]
    }
   ],
   "source": [
    "# Detect duplicate rows\n",
    "print(\"\\nRaw Data Duplicate Rows:\", raw_df.duplicated().sum())\n",
    "print(\"Incremental Data Duplicate Rows:\", inc_df.duplicated().sum())"
   ]
  },
  {
   "cell_type": "code",
   "execution_count": null,
   "id": "1586ffba",
   "metadata": {},
   "outputs": [],
   "source": [
    "# Detect missing values\n",
    "print(\"\\nRaw Data Missing Values:\\n\", raw_df.isnull().sum())\n",
    "print(\"\\nIncremental Data Missing Values:\\n\", inc_df.isnull().sum())"
   ]
  },
  {
   "cell_type": "markdown",
   "id": "b4816b47",
   "metadata": {},
   "source": [
    "\n",
    "Observations\n",
    "\n",
    "Raw Data (raw_data.csv)\n",
    "\n",
    "Missing Values:\n",
    "customer_name - 1 \n",
    "quantity - 26 \n",
    "unit_price - 35 \n",
    "order_date - 1\n",
    "region - 25 \n",
    "\n",
    "Duplicate Rows:\n",
    "Programmatic check shows: 1 duplicate row\n",
    "\n",
    "Suspicious Columns:\n",
    "quantity, unit_price, and region have a high number of missing values, which could impact analysis.\n",
    "\n",
    "Data Types:\n",
    "order_date is stored as object (string), should likely be converted to datetime for analysis.\n",
    "Incremental Data (incremental_data.csv)\n",
    "\n",
    "Missing Values:\n",
    "customer_name is often missing (only 4 non-null out of 10).\n",
    "quantity - 4 \n",
    "region - 2 \n",
    "\n",
    "Duplicate Rows:\n",
    "Programmatic check shows: 0 duplicate rows\n",
    "\n",
    "Suspicious Columns:\n",
    "High rate of missing customer_name and quantity may indicate data quality issues.\n",
    "\n",
    "Data Types:\n",
    "order_date is an object, should be converted to datetime.\n",
    "\n",
    "Conclusion:\n",
    "Both datasets have significant missing data that will need to be handled during the transform step.\n",
    "There may be duplicate rows or duplicate order_id values that need to be resolved.\n",
    "Some columns may not be useful if missingness remains high after cleaning."
   ]
  }
 ],
 "metadata": {
  "kernelspec": {
   "display_name": "Python 3",
   "language": "python",
   "name": "python3"
  },
  "language_info": {
   "codemirror_mode": {
    "name": "ipython",
    "version": 3
   },
   "file_extension": ".py",
   "mimetype": "text/x-python",
   "name": "python",
   "nbconvert_exporter": "python",
   "pygments_lexer": "ipython3",
   "version": "3.11.9"
  }
 },
 "nbformat": 4,
 "nbformat_minor": 5
}
