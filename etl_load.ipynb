{
 "cells": [
  {
   "cell_type": "markdown",
   "id": "a85f60ea",
   "metadata": {},
   "source": [
    "Load Phase\n",
    "\n",
    "Load the transformed datasets into a data storage format for future analysis using a columnar file format (Parquet).\n",
    "\n",
    "1. Load Transformed Data\n"
   ]
  },
  {
   "cell_type": "code",
   "execution_count": 1,
   "id": "ffae8d9c",
   "metadata": {},
   "outputs": [],
   "source": [
    "import pandas as pd\n",
    "\n",
    "# Load transformed data\n",
    "full_df = pd.read_csv('transformed/transformed_full.csv')\n",
    "inc_df = pd.read_csv('transformed/transformed_incremental.csv')"
   ]
  },
  {
   "cell_type": "markdown",
   "id": "97504b3d",
   "metadata": {},
   "source": [
    "2. Save Data as Parquet\n",
    "\n",
    "Store the files in Parquet format for fast, efficient access."
   ]
  },
  {
   "cell_type": "code",
   "execution_count": 3,
   "id": "01f4a908",
   "metadata": {},
   "outputs": [
    {
     "name": "stdout",
     "output_type": "stream",
     "text": [
      "   order_id customer_name product  quantity  unit_price  order_date   region  \\\n",
      "0         1         Diana  Tablet       2.0       500.0  2024-01-20    South   \n",
      "1         2           Eve  Laptop       2.0       500.0  2024-04-29    North   \n",
      "2         3       Charlie  Laptop       2.0       250.0  2024-01-08  Unknown   \n",
      "3         4           Eve  Laptop       2.0       750.0  2024-01-07     West   \n",
      "4         5           Eve  Tablet       3.0       500.0  2024-03-07    South   \n",
      "\n",
      "   total_price customer_tier  \n",
      "0       1000.0          Gold  \n",
      "1       1000.0          Gold  \n",
      "2        500.0        Silver  \n",
      "3       1500.0          Gold  \n",
      "4       1500.0          Gold  \n"
     ]
    }
   ],
   "source": [
    "full_df.to_parquet('loaded/full_data.parquet', index=False)\n",
    "inc_df.to_parquet('loaded/incremental_data.parquet', index=False)\n",
    "\n",
    "# Preview Parquet using pandas\n",
    "preview_parquet = pd.read_parquet('loaded/full_data.parquet')\n",
    "print(preview_parquet.head())"
   ]
  },
  {
   "cell_type": "markdown",
   "id": "86182602",
   "metadata": {},
   "source": [
    "3. Summary\n",
    "\n",
    "- Data saved as Parquet files: `loaded/full_data.parquet` and `loaded/incremental_data.parquet`.\n",
    "- Preview shown above confirms successful loading."
   ]
  }
 ],
 "metadata": {
  "kernelspec": {
   "display_name": "Python 3",
   "language": "python",
   "name": "python3"
  },
  "language_info": {
   "codemirror_mode": {
    "name": "ipython",
    "version": 3
   },
   "file_extension": ".py",
   "mimetype": "text/x-python",
   "name": "python",
   "nbconvert_exporter": "python",
   "pygments_lexer": "ipython3",
   "version": "3.11.9"
  }
 },
 "nbformat": 4,
 "nbformat_minor": 5
}
